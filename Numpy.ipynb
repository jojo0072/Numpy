{
 "cells": [
  {
   "cell_type": "markdown",
   "id": "a9aed23e-4dbe-43b7-be6b-e22d68a690f4",
   "metadata": {},
   "source": [
    "# NumPy Overview"
   ]
  },
  {
   "cell_type": "code",
   "execution_count": 2,
   "id": "28da6c3e-14e6-433b-bb0b-83f6241be574",
   "metadata": {},
   "outputs": [],
   "source": [
    "import numpy as np"
   ]
  },
  {
   "cell_type": "markdown",
   "id": "cbfabdb6-04ed-4275-82af-8acbb98a930d",
   "metadata": {},
   "source": [
    "**1. Initializing NumPy Array**"
   ]
  },
  {
   "cell_type": "markdown",
   "id": "190af298-90ba-4336-97b3-442f74d273c7",
   "metadata": {},
   "source": [
    "1.1. With a list"
   ]
  },
  {
   "cell_type": "code",
   "execution_count": 20,
   "id": "d309fd71-8a0b-4b88-9bb2-af64e9c3f5a2",
   "metadata": {},
   "outputs": [
    {
     "name": "stdout",
     "output_type": "stream",
     "text": [
      "[1 2 4 5] [1 2 4 5]\n"
     ]
    }
   ],
   "source": [
    "list=[1, 2, 4, 5]\n",
    "arr1=np.array(list)\n",
    "arr2=np.array([1, 2, 4, 5])\n",
    "print(arr1, arr2)"
   ]
  },
  {
   "cell_type": "markdown",
   "id": "dbc2cc8d-d540-42e1-95fe-61d3712259eb",
   "metadata": {},
   "source": [
    "1.2. With np.ones and np.zeros"
   ]
  },
  {
   "cell_type": "code",
   "execution_count": 21,
   "id": "bd69f539-aaf2-4c1b-90e4-cc4ce4587e8f",
   "metadata": {},
   "outputs": [
    {
     "name": "stdout",
     "output_type": "stream",
     "text": [
      "[1. 1. 1. 1.] [0. 0. 0. 0.]\n"
     ]
    }
   ],
   "source": [
    "arr3=np.ones(4)\n",
    "arr4=np.zeros(4)\n",
    "print(arr3, arr4)"
   ]
  },
  {
   "cell_type": "markdown",
   "id": "6731fe53-6009-4c60-8ef3-8effe832696a",
   "metadata": {},
   "source": [
    "1.3. With np.full and np.empty"
   ]
  },
  {
   "cell_type": "code",
   "execution_count": 24,
   "id": "4248ce1d-c23d-405e-b845-893cb7072bf5",
   "metadata": {},
   "outputs": [
    {
     "name": "stdout",
     "output_type": "stream",
     "text": [
      "[6 6 6 6]\n",
      "[0.000e+000 0.000e+000 0.000e+000 0.000e+000 0.000e+000 4.704e-321\n",
      " 0.000e+000 0.000e+000]\n"
     ]
    }
   ],
   "source": [
    "arr5=np.full(4, 6)\n",
    "arr6=np.empty(8)\n",
    "print(arr5, arr6, sep='\\n')"
   ]
  },
  {
   "cell_type": "markdown",
   "id": "d180149d-2ede-4d9e-99a5-bf3666b98f51",
   "metadata": {},
   "source": [
    "1.4. With np.arange"
   ]
  },
  {
   "cell_type": "code",
   "execution_count": 29,
   "id": "308aefa3-fa74-4c2d-a8a8-4c1e8423d871",
   "metadata": {},
   "outputs": [
    {
     "name": "stdout",
     "output_type": "stream",
     "text": [
      "[2 4]\n"
     ]
    }
   ],
   "source": [
    "arr7=np.arange(2, 5, 2) # could also use only one or two arguments\n",
    "print(arr7)"
   ]
  },
  {
   "cell_type": "markdown",
   "id": "d99f2f3e-053d-4e32-8cc6-01c20495e627",
   "metadata": {},
   "source": [
    "1.5. With np.random.rand"
   ]
  },
  {
   "cell_type": "code",
   "execution_count": 31,
   "id": "9a601615-6795-4b63-9a88-af107923c134",
   "metadata": {},
   "outputs": [
    {
     "name": "stdout",
     "output_type": "stream",
     "text": [
      "[0.97551868 0.6028303  0.63522196 0.36880068 0.10116804]\n"
     ]
    }
   ],
   "source": [
    "arr8=np.random.rand(5)\n",
    "print(arr8)"
   ]
  },
  {
   "cell_type": "markdown",
   "id": "24e7469c-dc13-48b8-b1e3-8862fe27341c",
   "metadata": {},
   "source": [
    "**2. Initializing ND Array**"
   ]
  },
  {
   "cell_type": "markdown",
   "id": "de2e3862-bed9-432c-bbda-cebef6cd431c",
   "metadata": {},
   "source": [
    "2.1. With lists"
   ]
  },
  {
   "cell_type": "code",
   "execution_count": 40,
   "id": "ad3b281b-a856-4aef-8916-e748fac002d9",
   "metadata": {},
   "outputs": [
    {
     "name": "stdout",
     "output_type": "stream",
     "text": [
      "[[1 2]\n",
      " [3 4]]\n",
      "\n",
      "[[[1 2]\n",
      "  [3 4]]\n",
      "\n",
      " [[5 6]\n",
      "  [7 8]]]\n"
     ]
    }
   ],
   "source": [
    "arr2d=np.array([[1, 2],\n",
    "               [3, 4]])\n",
    "arr3d=np.array([[[1, 2],\n",
    "        [3, 4]],\n",
    "        \n",
    "        [[5, 6],\n",
    "        [7, 8]]])\n",
    "\n",
    "print(arr2d, arr3d, sep='\\n'*2)"
   ]
  },
  {
   "cell_type": "markdown",
   "id": "22c30bdc-88e4-414c-96ef-7d05c78b29e0",
   "metadata": {},
   "source": [
    "2.2. With np.ones and np.zeros"
   ]
  },
  {
   "cell_type": "code",
   "execution_count": 54,
   "id": "6daf1337-44c1-44ea-9e3e-843e13e40e02",
   "metadata": {},
   "outputs": [
    {
     "name": "stdout",
     "output_type": "stream",
     "text": [
      "[[1. 1. 1.]\n",
      " [1. 1. 1.]\n",
      " [1. 1. 1.]\n",
      " [1. 1. 1.]]\n",
      "\n",
      "\n",
      "[[[0. 0. 0. 0.]\n",
      "  [0. 0. 0. 0.]\n",
      "  [0. 0. 0. 0.]\n",
      "  [0. 0. 0. 0.]]\n",
      "\n",
      " [[0. 0. 0. 0.]\n",
      "  [0. 0. 0. 0.]\n",
      "  [0. 0. 0. 0.]\n",
      "  [0. 0. 0. 0.]]\n",
      "\n",
      " [[0. 0. 0. 0.]\n",
      "  [0. 0. 0. 0.]\n",
      "  [0. 0. 0. 0.]\n",
      "  [0. 0. 0. 0.]]\n",
      "\n",
      " [[0. 0. 0. 0.]\n",
      "  [0. 0. 0. 0.]\n",
      "  [0. 0. 0. 0.]\n",
      "  [0. 0. 0. 0.]]]\n"
     ]
    }
   ],
   "source": [
    "arro2d=np.ones((4, 3))\n",
    "arrz3d=np.zeros((4,4,4))\n",
    "print(arro2d, arrz3d, sep='\\n'*3)"
   ]
  },
  {
   "cell_type": "markdown",
   "id": "54586a23-792a-4a56-bd64-61e3f1d7924a",
   "metadata": {},
   "source": [
    "2.3. With np.empty and np.full"
   ]
  },
  {
   "cell_type": "code",
   "execution_count": 59,
   "id": "41af5c72-0dca-4492-9a89-e19215a33791",
   "metadata": {},
   "outputs": [
    {
     "name": "stdout",
     "output_type": "stream",
     "text": [
      "[[[6.23042070e-307 4.67296746e-307 1.69121096e-306]\n",
      "  [1.33511018e-306 4.45060607e-308 9.34597567e-307]\n",
      "  [1.42419938e-306 7.56603881e-307 8.45603440e-307]]\n",
      "\n",
      " [[3.56043054e-307 1.60219306e-306 6.23059726e-307]\n",
      "  [1.06811422e-306 3.56043054e-307 1.37961641e-306]\n",
      "  [1.00132483e-307 8.01097889e-307 1.78020169e-306]]\n",
      "\n",
      " [[7.56601165e-307 1.02359984e-306 1.33510679e-306]\n",
      "  [2.22522597e-306 1.60220393e-306 1.86921143e-306]\n",
      "  [1.11261434e-306 2.22522596e-306 2.56765117e-312]]]\n",
      "\n",
      "[[[3 3 3]\n",
      "  [3 3 3]\n",
      "  [3 3 3]]\n",
      "\n",
      " [[3 3 3]\n",
      "  [3 3 3]\n",
      "  [3 3 3]]\n",
      "\n",
      " [[3 3 3]\n",
      "  [3 3 3]\n",
      "  [3 3 3]]]\n"
     ]
    }
   ],
   "source": [
    "arre3d=np.empty((3,3,3))\n",
    "arrf3d=np.full((3,3,3), 3)\n",
    "print(arre3d, arrf3d, sep='\\n'*2)"
   ]
  },
  {
   "cell_type": "markdown",
   "id": "12b71825-3a06-4a7e-9b48-703ab6121953",
   "metadata": {},
   "source": [
    "2.4. With np.random.rand"
   ]
  },
  {
   "cell_type": "code",
   "execution_count": 60,
   "id": "2c5ef4f4-931b-4b44-a936-3ab4c4d19017",
   "metadata": {},
   "outputs": [
    {
     "name": "stdout",
     "output_type": "stream",
     "text": [
      "[[[0.00492382 0.90384186 0.79904409]\n",
      "  [0.77583801 0.06913018 0.41474093]\n",
      "  [0.12254323 0.5599702  0.12059434]]\n",
      "\n",
      " [[0.85041238 0.82987802 0.33327734]\n",
      "  [0.01329156 0.50452156 0.49062027]\n",
      "  [0.75351408 0.92832726 0.06913675]]\n",
      "\n",
      " [[0.84791734 0.76674462 0.3232996 ]\n",
      "  [0.08505975 0.19478576 0.68362301]\n",
      "  [0.76277293 0.02094927 0.26131866]]]\n"
     ]
    }
   ],
   "source": [
    "arrr3d=np.random.rand(3,3,3)\n",
    "print(arrr3d)"
   ]
  },
  {
   "cell_type": "markdown",
   "id": "a7d7c975-19d5-4e1e-8ef7-c2c33b49b02d",
   "metadata": {},
   "source": [
    "**3. Data Types**"
   ]
  },
  {
   "cell_type": "markdown",
   "id": "e1f429e8-8cdc-46e8-b206-fbb3877d9b4f",
   "metadata": {},
   "source": [
    "3.1. Check data type"
   ]
  },
  {
   "cell_type": "code",
   "execution_count": 63,
   "id": "ec02ddd1-64b7-4c15-a0d8-a992f7efcba3",
   "metadata": {},
   "outputs": [
    {
     "name": "stdout",
     "output_type": "stream",
     "text": [
      "int32\n"
     ]
    }
   ],
   "source": [
    "arrx=np.array([1,2,3,4])\n",
    "print(arrx.dtype) # dtype attribute"
   ]
  },
  {
   "cell_type": "markdown",
   "id": "6f2f4baf-a736-42f0-a831-c32b4ff7f278",
   "metadata": {},
   "source": [
    "3.2. Specify data type"
   ]
  },
  {
   "cell_type": "code",
   "execution_count": 65,
   "id": "1efeefe8-acee-4f38-9689-44aa9ced9562",
   "metadata": {},
   "outputs": [
    {
     "name": "stdout",
     "output_type": "stream",
     "text": [
      "int16\n"
     ]
    }
   ],
   "source": [
    "arry=np.array([1,2,3,4], dtype=\"int16\") # dtype parameter\n",
    "print(arry.dtype)"
   ]
  },
  {
   "cell_type": "markdown",
   "id": "f071d10c-c925-4c53-8ae1-f218789b8517",
   "metadata": {},
   "source": [
    "3.3. Convert data type"
   ]
  },
  {
   "cell_type": "code",
   "execution_count": 72,
   "id": "89eb0e72-1d3f-4544-aa16-f07202da4df8",
   "metadata": {},
   "outputs": [
    {
     "name": "stdout",
     "output_type": "stream",
     "text": [
      "[1. 2. 3. 4.] float64\n",
      "[1.44 +0.j 4.55 +0.j 6.88 +0.j 9.753+0.j] complex64\n"
     ]
    }
   ],
   "source": [
    "arrz=arry.astype(\"float64\")\n",
    "print(arrz, arrz.dtype)\n",
    "\n",
    "arra=np.array([1.44, 4.55, 6.88, 9.753])\n",
    "arrb=arra.astype(\"complex64\")\n",
    "print(arrb, arrb.dtype)"
   ]
  },
  {
   "cell_type": "markdown",
   "id": "71dd1bc8-2992-4788-99ef-7360b6a1b8fd",
   "metadata": {},
   "source": [
    "**4. Array Attributes**"
   ]
  },
  {
   "cell_type": "code",
   "execution_count": 73,
   "id": "daba716c-a564-4038-bcaa-0513f844930b",
   "metadata": {},
   "outputs": [],
   "source": [
    "# Attributes provide information about the array"
   ]
  },
  {
   "cell_type": "code",
   "execution_count": 93,
   "id": "6876a3cf-decc-4d03-ba04-bd2f214acd7a",
   "metadata": {},
   "outputs": [],
   "source": [
    "arrayxy=np.array([[1, 3, 4],\n",
    "                  [4, 5, 9]])"
   ]
  },
  {
   "cell_type": "markdown",
   "id": "66ec1628-cf52-41a7-be9b-b5f189baf35b",
   "metadata": {},
   "source": [
    "4.1. ndim"
   ]
  },
  {
   "cell_type": "code",
   "execution_count": 94,
   "id": "da2f1861-dc71-41bd-9f4b-c5a1e30123e9",
   "metadata": {},
   "outputs": [
    {
     "name": "stdout",
     "output_type": "stream",
     "text": [
      "2\n"
     ]
    }
   ],
   "source": [
    "print(arrayxy.ndim)"
   ]
  },
  {
   "cell_type": "markdown",
   "id": "f524ed69-ce3f-48a9-81eb-506f49387d19",
   "metadata": {},
   "source": [
    "4.2. size"
   ]
  },
  {
   "cell_type": "code",
   "execution_count": 95,
   "id": "75801562-b3f5-41c4-852d-b1b02cdaf4ce",
   "metadata": {},
   "outputs": [
    {
     "name": "stdout",
     "output_type": "stream",
     "text": [
      "6\n"
     ]
    }
   ],
   "source": [
    "print(arrayxy.size)"
   ]
  },
  {
   "cell_type": "markdown",
   "id": "8e09f033-519e-43ae-acc0-2b1a69893ae7",
   "metadata": {},
   "source": [
    "4.3. shape"
   ]
  },
  {
   "cell_type": "code",
   "execution_count": 96,
   "id": "95c58d97-06db-42b3-8d15-56389433dc0e",
   "metadata": {},
   "outputs": [
    {
     "name": "stdout",
     "output_type": "stream",
     "text": [
      "(2, 3)\n"
     ]
    }
   ],
   "source": [
    "print(arrayxy.shape)"
   ]
  },
  {
   "cell_type": "markdown",
   "id": "bd1840a5-4021-4819-884a-c0f58bb98310",
   "metadata": {},
   "source": [
    "4.4. dtype (as above)"
   ]
  },
  {
   "cell_type": "code",
   "execution_count": 97,
   "id": "0214693a-9785-4123-ae09-9f2a82ec8d9e",
   "metadata": {},
   "outputs": [
    {
     "name": "stdout",
     "output_type": "stream",
     "text": [
      "int32\n"
     ]
    }
   ],
   "source": [
    "print(arrayxy.dtype)"
   ]
  },
  {
   "cell_type": "markdown",
   "id": "ded26b97-61e7-41d9-b952-e1a4c8fc318a",
   "metadata": {},
   "source": [
    "4.5. itemsize"
   ]
  },
  {
   "cell_type": "code",
   "execution_count": 98,
   "id": "6d9e39cd-5ee5-4b2b-add7-b89b0ce3331c",
   "metadata": {},
   "outputs": [
    {
     "name": "stdout",
     "output_type": "stream",
     "text": [
      "4\n"
     ]
    }
   ],
   "source": [
    "print(arrayxy.itemsize)"
   ]
  },
  {
   "cell_type": "markdown",
   "id": "1ae1a867-f62a-4131-94ea-ff4c06fd9fe9",
   "metadata": {},
   "source": [
    "4.6. data"
   ]
  },
  {
   "cell_type": "code",
   "execution_count": 99,
   "id": "5b293595-fec8-4b78-9795-bba5e8e94b9c",
   "metadata": {
    "scrolled": true
   },
   "outputs": [
    {
     "name": "stdout",
     "output_type": "stream",
     "text": [
      "<memory at 0x000001B5FEB73030>\n"
     ]
    }
   ],
   "source": [
    "print(arrayxy.data)"
   ]
  },
  {
   "cell_type": "markdown",
   "id": "ed1263d8-d809-4651-80fd-c940dbfeaed0",
   "metadata": {},
   "source": [
    "**6. Array Functions**"
   ]
  },
  {
   "cell_type": "markdown",
   "id": "ff84d3a7-3292-40c1-9e93-9385f11f9219",
   "metadata": {},
   "source": [
    "6.1. Array Creation Functions\n",
    "\n",
    "\n",
    "Already covered at 1."
   ]
  },
  {
   "cell_type": "markdown",
   "id": "3e7dafe2-d5df-43a9-b610-a75a299db39e",
   "metadata": {},
   "source": [
    "6.2. Array Manipulation Functions"
   ]
  },
  {
   "cell_type": "markdown",
   "id": "922531d6-0b6a-4094-9023-da654c2031cf",
   "metadata": {},
   "source": [
    "6.2.1. np.reshape"
   ]
  },
  {
   "cell_type": "code",
   "execution_count": 100,
   "id": "5236c993-19cd-4162-b30d-c3d38f547d72",
   "metadata": {},
   "outputs": [
    {
     "name": "stdout",
     "output_type": "stream",
     "text": [
      "[[1 2]\n",
      " [3 4]\n",
      " [5 6]\n",
      " [7 8]]\n",
      "\n",
      "[[[1 2]\n",
      "  [3 4]]\n",
      "\n",
      " [[5 6]\n",
      "  [7 8]]]\n",
      "\n",
      "[1 2 3 4 5 6 7 8]\n"
     ]
    }
   ],
   "source": [
    "rarr=np.array([1,2,3,4,5,6,7,8])\n",
    "arr2d=np.reshape(rarr,(4, 2))\n",
    "arr3d=np.reshape(rarr,(2, 2, 2))\n",
    "\n",
    "flattenarr=np.reshape([[1, 2], [3, 4], [5, 6],[7, 8]], -1)\n",
    "\n",
    "print(arr2d, arr3d,flattenarr, sep=\"\\n\"*2)"
   ]
  },
  {
   "cell_type": "markdown",
   "id": "90caa42f-ec7d-4324-8ac7-d3d5e3f059fa",
   "metadata": {},
   "source": [
    "6.2.2. np.transpose (swaps axes) i"
   ]
  },
  {
   "cell_type": "code",
   "execution_count": 101,
   "id": "a69ac1d6-97f2-4af4-ae95-9977a7b28b1b",
   "metadata": {},
   "outputs": [
    {
     "data": {
      "text/plain": [
       "array([[1, 3],\n",
       "       [2, 4]])"
      ]
     },
     "execution_count": 101,
     "metadata": {},
     "output_type": "execute_result"
    }
   ],
   "source": [
    "# does not work with 1D Array\n",
    "transarr=np.array([[1, 2], \n",
    "                   [3, 4]])\n",
    "# 3d Array Investigation\n",
    "np.transpose(transarr)"
   ]
  },
  {
   "cell_type": "markdown",
   "id": "6de9b58a-3bdb-47be-8829-4ee35de9636a",
   "metadata": {},
   "source": [
    "6.3. Array Mathematical Functions"
   ]
  },
  {
   "cell_type": "code",
   "execution_count": 102,
   "id": "666a19b2-cbc7-41cc-a265-88208db595b5",
   "metadata": {},
   "outputs": [],
   "source": [
    "firstarr=np.array([8, 6, 4, 2])\n",
    "secondarr=np.array([1, 2, 3, 4])"
   ]
  },
  {
   "cell_type": "markdown",
   "id": "6aff1bc9-1df9-444a-9ab0-8d489b4965b4",
   "metadata": {},
   "source": [
    "6.3.1. Addition"
   ]
  },
  {
   "cell_type": "code",
   "execution_count": 103,
   "id": "32763c27-191f-49d3-a197-2ef9a424ee3b",
   "metadata": {},
   "outputs": [
    {
     "name": "stdout",
     "output_type": "stream",
     "text": [
      "[9 8 7 6]\n",
      "[9 8 7 6]\n"
     ]
    }
   ],
   "source": [
    "res1=firstarr + secondarr\n",
    "res2=np.add(firstarr, secondarr)\n",
    "print(res1, res2, sep=\"\\n\")"
   ]
  },
  {
   "cell_type": "markdown",
   "id": "4bd2a18a-c14f-4484-8194-41793cd0ee9c",
   "metadata": {},
   "source": [
    "6.3.2. Subtraction"
   ]
  },
  {
   "cell_type": "code",
   "execution_count": 104,
   "id": "c9f5b69b-3735-4008-8580-82e98f3fcb95",
   "metadata": {},
   "outputs": [
    {
     "name": "stdout",
     "output_type": "stream",
     "text": [
      "[ 7  4  1 -2]\n",
      "[ 7  4  1 -2]\n"
     ]
    }
   ],
   "source": [
    "res3=firstarr - secondarr\n",
    "res4=np.subtract(firstarr, secondarr)\n",
    "print(res3, res4, sep=\"\\n\")"
   ]
  },
  {
   "cell_type": "markdown",
   "id": "b9c49ec9-5294-401f-a0cf-7620b50007d1",
   "metadata": {},
   "source": [
    "6.3.3. Multiplication"
   ]
  },
  {
   "cell_type": "code",
   "execution_count": 105,
   "id": "caa2dcc8-8616-4ccb-a762-2ef4a4010d48",
   "metadata": {},
   "outputs": [
    {
     "name": "stdout",
     "output_type": "stream",
     "text": [
      "[ 8 12 12  8]\n",
      "[ 8 12 12  8]\n"
     ]
    }
   ],
   "source": [
    "res5= firstarr * secondarr\n",
    "res6=np.multiply(firstarr, secondarr)\n",
    "print(res5, res6, sep=\"\\n\")"
   ]
  },
  {
   "cell_type": "markdown",
   "id": "aefc06b9-7bc5-4b4c-839a-ed96e74260af",
   "metadata": {},
   "source": [
    "6.3.4. Division"
   ]
  },
  {
   "cell_type": "code",
   "execution_count": 106,
   "id": "908cf1f9-fa24-4b06-98ac-16828691656e",
   "metadata": {},
   "outputs": [
    {
     "name": "stdout",
     "output_type": "stream",
     "text": [
      "[8.         3.         1.33333333 0.5       ]\n",
      "[8.         3.         1.33333333 0.5       ]\n"
     ]
    }
   ],
   "source": [
    "res7=firstarr / secondarr\n",
    "res8=np.divide(firstarr, secondarr)\n",
    "print(res7, res8, sep=\"\\n\")"
   ]
  },
  {
   "cell_type": "markdown",
   "id": "7b41204d-395f-4fc7-b975-ae3fbfbb16c5",
   "metadata": {},
   "source": [
    "6.3.5. Exponentiation"
   ]
  },
  {
   "cell_type": "code",
   "execution_count": 107,
   "id": "797ec124-e0f2-4632-a0e4-ac4fbfdcf5e8",
   "metadata": {},
   "outputs": [
    {
     "name": "stdout",
     "output_type": "stream",
     "text": [
      "[64 36 16  4]\n",
      "[64 36 16  4]\n"
     ]
    }
   ],
   "source": [
    "res9= firstarr ** 2\n",
    "res10=np.power(firstarr, 2)\n",
    "print(res9, res10, sep=\"\\n\")"
   ]
  },
  {
   "cell_type": "markdown",
   "id": "a6ea0563-cac0-412b-ae8c-a17aad05cad9",
   "metadata": {},
   "source": [
    "6.3.6. Modulus"
   ]
  },
  {
   "cell_type": "code",
   "execution_count": 108,
   "id": "7bb53886-2447-46eb-bf3a-15c9d59af3e1",
   "metadata": {},
   "outputs": [
    {
     "name": "stdout",
     "output_type": "stream",
     "text": [
      "[0 0 1 2]\n",
      "[0 0 1 2]\n"
     ]
    }
   ],
   "source": [
    "res11=firstarr % secondarr\n",
    "res12=np.mod(firstarr, secondarr)\n",
    "print(res11, res12, sep=\"\\n\")"
   ]
  },
  {
   "cell_type": "markdown",
   "id": "dddbdc39-c61d-457d-bf2f-43fe0d0fc545",
   "metadata": {},
   "source": [
    "6.4. Array Statistical Functions"
   ]
  },
  {
   "cell_type": "code",
   "execution_count": 109,
   "id": "7037404d-cf36-4623-b337-6e9d640751ac",
   "metadata": {},
   "outputs": [],
   "source": [
    "statsarr=np.array([2, 3, 4 , 5, 7, 8, 9])\n",
    "statsarr2d=np.array([[1, 2],\n",
    "                     [3, 4],\n",
    "                     [5, 6]])"
   ]
  },
  {
   "cell_type": "markdown",
   "id": "940509f1-940d-4003-a6ca-d50d428c0390",
   "metadata": {},
   "source": [
    "6.4.1. median  "
   ]
  },
  {
   "cell_type": "code",
   "execution_count": 110,
   "id": "14e3bf41-72d6-4512-be82-9d57599c7de4",
   "metadata": {},
   "outputs": [
    {
     "name": "stdout",
     "output_type": "stream",
     "text": [
      "5.0\n",
      "3.5\n",
      "[1.5 3.5 5.5]\n",
      "[3. 4.]\n"
     ]
    }
   ],
   "source": [
    "med=np.median(statsarr)\n",
    "print(med)\n",
    "\n",
    "med2d=np.median(statsarr2d)\n",
    "print(med2d)\n",
    "\n",
    "medvertical2d=np.median(statsarr2d, axis=1)\n",
    "print(medvertical2d)\n",
    "\n",
    "medhorizontal2d=np.median(statsarr2d, axis=0)\n",
    "print(medhorizontal2d)"
   ]
  },
  {
   "cell_type": "markdown",
   "id": "31599c56-ddf9-4772-bc71-71c55449cb92",
   "metadata": {},
   "source": [
    "6.4.2. mean i"
   ]
  },
  {
   "cell_type": "code",
   "execution_count": 111,
   "id": "4f8c16c7-ee4d-45b8-80e4-10834312d502",
   "metadata": {},
   "outputs": [
    {
     "name": "stdout",
     "output_type": "stream",
     "text": [
      "5.428571428571429\n",
      "3.5\n",
      "[1.5 3.5 5.5]\n",
      "[3. 4.]\n"
     ]
    }
   ],
   "source": [
    "mean=np.mean(statsarr)\n",
    "print(mean)\n",
    "\n",
    "mean2d=np.mean(statsarr2d)\n",
    "print(mean2d)\n",
    "\n",
    "meanvertical2d=np.mean(statsarr2d, axis=1)\n",
    "print(meanvertical2d)\n",
    "\n",
    "meanhorizontal2d=np.mean(statsarr2d, axis=0)\n",
    "print(meanhorizontal2d)"
   ]
  },
  {
   "cell_type": "markdown",
   "id": "b9f428f3-b0ca-468b-9698-4ea7b6dff509",
   "metadata": {},
   "source": [
    "6.4.3. std (standard deviation)"
   ]
  },
  {
   "cell_type": "code",
   "execution_count": 112,
   "id": "68f2fd43-fc8c-4f77-94e0-8367dc62c570",
   "metadata": {},
   "outputs": [
    {
     "name": "stdout",
     "output_type": "stream",
     "text": [
      "2.4411439272335804\n",
      "1.707825127659933\n",
      "[0.5 0.5 0.5]\n",
      "[1.63299316 1.63299316]\n"
     ]
    }
   ],
   "source": [
    "std=np.std(statsarr)\n",
    "print(std)\n",
    "\n",
    "std2d=np.std(statsarr2d)\n",
    "print(std2d)\n",
    "\n",
    "stdvertical2d=np.std(statsarr2d, axis=1)\n",
    "print(stdvertical2d)\n",
    "\n",
    "stdhorizontal2d=np.std(statsarr2d, axis=0)\n",
    "print(stdhorizontal2d)"
   ]
  },
  {
   "cell_type": "markdown",
   "id": "a64de3d4-94d2-4d26-9d20-3cb8e6ca4c45",
   "metadata": {},
   "source": [
    "6.4.4. percentile i"
   ]
  },
  {
   "cell_type": "code",
   "execution_count": 113,
   "id": "3841cfdc-0e6e-4fb5-8200-d9e25435d123",
   "metadata": {},
   "outputs": [
    {
     "name": "stdout",
     "output_type": "stream",
     "text": [
      "2.06\n"
     ]
    }
   ],
   "source": [
    "per=np.percentile(statsarr, 1)\n",
    "print(per)"
   ]
  },
  {
   "cell_type": "markdown",
   "id": "7a7f36b9-5ecd-4dbd-b0b0-e60746efe25c",
   "metadata": {},
   "source": [
    "6.4.5. min and max i"
   ]
  },
  {
   "cell_type": "code",
   "execution_count": 114,
   "id": "64b9fe81-91b3-437d-8822-c12f5d697847",
   "metadata": {},
   "outputs": [
    {
     "name": "stdout",
     "output_type": "stream",
     "text": [
      "2\n",
      "9\n"
     ]
    }
   ],
   "source": [
    "min=np.min(statsarr)\n",
    "max=np.max(statsarr)\n",
    "\n",
    "print(min, max, sep=\"\\n\")"
   ]
  },
  {
   "cell_type": "markdown",
   "id": "bef1d895-d350-429e-9720-fec3b27c701e",
   "metadata": {},
   "source": [
    "6.5. Array Input/Output Functions  i"
   ]
  },
  {
   "cell_type": "markdown",
   "id": "6658b4ba-9cac-4910-8bdf-f523a748d476",
   "metadata": {},
   "source": [
    "**7. Math Functions**"
   ]
  },
  {
   "cell_type": "markdown",
   "id": "83bdf6e5-b640-4251-ae86-4c9736783616",
   "metadata": {},
   "source": [
    "7.1. Array Mathematical Functions\n",
    "\n",
    "Already covered at 6.3."
   ]
  },
  {
   "cell_type": "markdown",
   "id": "629c20e3-e92e-497b-bcd7-4eadeeb1a95a",
   "metadata": {},
   "source": [
    "7.2. Trigonometric Functions"
   ]
  },
  {
   "cell_type": "markdown",
   "id": "f90d9369-bed8-423d-b544-9dfb7cc5ba2e",
   "metadata": {},
   "source": [
    "7.2.1. sin, cos, tan"
   ]
  },
  {
   "cell_type": "markdown",
   "id": "db861609-15d5-49be-ac90-7f50bc75ccb8",
   "metadata": {},
   "source": [
    "7.2.2. arsin, arcos, arctan"
   ]
  },
  {
   "cell_type": "markdown",
   "id": "1be4b5ab-5e9a-4a99-8b2c-09cf412154ba",
   "metadata": {},
   "source": [
    "7.2.3. degrees, radians"
   ]
  },
  {
   "cell_type": "markdown",
   "id": "0405ff50-715b-49d7-89da-e16f251e1709",
   "metadata": {},
   "source": [
    "7.3. Rounding Functions"
   ]
  },
  {
   "cell_type": "code",
   "execution_count": 115,
   "id": "6c8336b4-6f24-4e16-bca4-22faf32527bd",
   "metadata": {},
   "outputs": [],
   "source": [
    "num=np.array([5.333, 7.924, 6.832, 3.47])"
   ]
  },
  {
   "cell_type": "markdown",
   "id": "f5c25ff7-f38f-4978-9a7f-9376c24f4f08",
   "metadata": {},
   "source": [
    "7.3.1. round"
   ]
  },
  {
   "cell_type": "code",
   "execution_count": 116,
   "id": "844439ba-ca46-4776-8ad8-1eb07d6b90a9",
   "metadata": {},
   "outputs": [
    {
     "name": "stdout",
     "output_type": "stream",
     "text": [
      "[5.3 7.9 6.8 3.5]\n"
     ]
    }
   ],
   "source": [
    "round=np.round(num, 1)\n",
    "print(round)"
   ]
  },
  {
   "cell_type": "markdown",
   "id": "f29fc081-fb79-4ddb-84d2-306421de7413",
   "metadata": {},
   "source": [
    "7.3.2. floor, ceil"
   ]
  },
  {
   "cell_type": "code",
   "execution_count": 117,
   "id": "22a0782b-748d-4a13-a4b7-853734be3d45",
   "metadata": {},
   "outputs": [
    {
     "name": "stdout",
     "output_type": "stream",
     "text": [
      "[5. 7. 6. 3.]\n",
      "[6. 8. 7. 4.]\n"
     ]
    }
   ],
   "source": [
    "fl=np.floor(num)\n",
    "ce=np.ceil(num)\n",
    "print(fl,ce, sep=\"\\n\")"
   ]
  },
  {
   "cell_type": "markdown",
   "id": "cc293550-3d07-4276-a13e-281af2994211",
   "metadata": {},
   "source": [
    "**8. Constants**"
   ]
  },
  {
   "cell_type": "markdown",
   "id": "e15a4303-33ae-4fa1-915c-2fd9f94980b6",
   "metadata": {},
   "source": [
    "8.1. pi"
   ]
  },
  {
   "cell_type": "code",
   "execution_count": 118,
   "id": "ee9fedcd-f8e9-4318-beca-e8ed1b7111b7",
   "metadata": {},
   "outputs": [
    {
     "name": "stdout",
     "output_type": "stream",
     "text": [
      "50.26548245743669\n"
     ]
    }
   ],
   "source": [
    "r=4\n",
    "area_circle=np.pi * pow(r, 2)\n",
    "print(area_circle)"
   ]
  },
  {
   "cell_type": "markdown",
   "id": "f627b1ba-48ae-4cfc-a439-f05debc9b6b9",
   "metadata": {},
   "source": [
    "8.2. e   (euler's number)"
   ]
  },
  {
   "cell_type": "code",
   "execution_count": 119,
   "id": "638537a0-87af-41f7-b789-a0d5bd719bf8",
   "metadata": {},
   "outputs": [
    {
     "name": "stdout",
     "output_type": "stream",
     "text": [
      "2.718281828459045\n"
     ]
    }
   ],
   "source": [
    "x=1\n",
    "y=np.exp(x)\n",
    "print(y)"
   ]
  },
  {
   "cell_type": "markdown",
   "id": "958a2ce0-d0ed-4cdf-b4d9-b3b51a3a922a",
   "metadata": {},
   "source": [
    "**9. Comparison/Logical Operators (same as Python, only with Arrays)**"
   ]
  },
  {
   "cell_type": "markdown",
   "id": "a647def4-b5b6-48ac-a938-6ae13834bdb0",
   "metadata": {},
   "source": [
    "9.1. Logical Operators "
   ]
  },
  {
   "cell_type": "code",
   "execution_count": 120,
   "id": "36a15fb7-6a95-4763-866b-5188d5ae3c73",
   "metadata": {},
   "outputs": [],
   "source": [
    "logicx1=np.array([0, True, False])\n",
    "logicx2=np.array([False, False, 1])"
   ]
  },
  {
   "cell_type": "markdown",
   "id": "46ce6817-e5f4-4bb6-b59a-3e5fd99d2b40",
   "metadata": {},
   "source": [
    "9.1.1. Logical and"
   ]
  },
  {
   "cell_type": "code",
   "execution_count": 121,
   "id": "bd1736fd-c56e-445a-8bb4-7c3e6eef0526",
   "metadata": {},
   "outputs": [
    {
     "name": "stdout",
     "output_type": "stream",
     "text": [
      "[False False False]\n"
     ]
    }
   ],
   "source": [
    "print(np.logical_and(logicx1, logicx2))"
   ]
  },
  {
   "cell_type": "markdown",
   "id": "83b57367-09a4-4163-92be-43dbe4fb825f",
   "metadata": {},
   "source": [
    "9.1.2. Logical or"
   ]
  },
  {
   "cell_type": "code",
   "execution_count": 122,
   "id": "5f091460-d0cb-450d-853b-1501527cd7de",
   "metadata": {},
   "outputs": [
    {
     "name": "stdout",
     "output_type": "stream",
     "text": [
      "[False  True  True]\n"
     ]
    }
   ],
   "source": [
    "print(np.logical_or(logicx1, logicx2))"
   ]
  },
  {
   "cell_type": "markdown",
   "id": "a1a7b2a3-c509-4dce-988f-2759179f62a3",
   "metadata": {},
   "source": [
    "9.1.3. Logical not"
   ]
  },
  {
   "cell_type": "code",
   "execution_count": 123,
   "id": "ef8a8139-9a53-4813-a909-2876ad2dca8f",
   "metadata": {},
   "outputs": [
    {
     "name": "stdout",
     "output_type": "stream",
     "text": [
      "[ True False  True]\n",
      "[ True  True False]\n"
     ]
    }
   ],
   "source": [
    "print(np.logical_not(logicx1))\n",
    "print(np.logical_not(logicx2))"
   ]
  },
  {
   "cell_type": "markdown",
   "id": "55981862-e0e7-452c-9c26-1cd5adf49e28",
   "metadata": {},
   "source": [
    "9.2. Comparison Operators i"
   ]
  },
  {
   "cell_type": "code",
   "execution_count": 124,
   "id": "3671b7a3-3f18-4cd3-80d4-78fcc5ad84c0",
   "metadata": {},
   "outputs": [],
   "source": [
    "array1=np.array([4, 8, 3])\n",
    "array2=np.array([6, 8, 1])"
   ]
  },
  {
   "cell_type": "markdown",
   "id": "21798daa-4f03-4d67-b4a0-603906ab7ff9",
   "metadata": {},
   "source": [
    "9.2.1. Less than"
   ]
  },
  {
   "cell_type": "code",
   "execution_count": 125,
   "id": "a4da5d2b-96e0-42b2-85d3-2baf771b9e3d",
   "metadata": {},
   "outputs": [
    {
     "name": "stdout",
     "output_type": "stream",
     "text": [
      "[ True False False]\n",
      "[ True False False]\n"
     ]
    }
   ],
   "source": [
    "outc1=np.less(array1, array2)\n",
    "print(outc1)\n",
    "\n",
    "outc2= array1 < array2\n",
    "print(outc2)"
   ]
  },
  {
   "cell_type": "markdown",
   "id": "5353465d-e56b-472a-aa1f-61d4ca1f7340",
   "metadata": {},
   "source": [
    "9.2.2. Less than or equal to"
   ]
  },
  {
   "cell_type": "code",
   "execution_count": 126,
   "id": "46c44cfb-f206-4528-b508-eac34e2923c7",
   "metadata": {},
   "outputs": [
    {
     "name": "stdout",
     "output_type": "stream",
     "text": [
      "[ True  True False]\n",
      "[ True  True False]\n"
     ]
    }
   ],
   "source": [
    "outc3=np.less_equal(array1, array2)\n",
    "print(outc3)\n",
    "\n",
    "outc4= array1 <= array2\n",
    "print(outc4)"
   ]
  },
  {
   "cell_type": "markdown",
   "id": "87db94db-87d3-4779-b4f3-9f7536c53b85",
   "metadata": {},
   "source": [
    "9.2.3. Greater than"
   ]
  },
  {
   "cell_type": "code",
   "execution_count": 127,
   "id": "e8627ea6-7369-4cb8-b244-bc386f2b5f52",
   "metadata": {},
   "outputs": [
    {
     "name": "stdout",
     "output_type": "stream",
     "text": [
      "[False False  True]\n",
      "[False False  True]\n"
     ]
    }
   ],
   "source": [
    "outc5=np.greater(array1, array2)\n",
    "print(outc5)\n",
    "\n",
    "outc6= array1 > array2\n",
    "print(outc6)"
   ]
  },
  {
   "cell_type": "markdown",
   "id": "7c32854c-3ca2-46b7-981a-f6864083b950",
   "metadata": {},
   "source": [
    "9.2.4. Greater than or equal to"
   ]
  },
  {
   "cell_type": "code",
   "execution_count": 128,
   "id": "9f143d73-a907-4249-8df5-04fa2f61c416",
   "metadata": {},
   "outputs": [
    {
     "name": "stdout",
     "output_type": "stream",
     "text": [
      "[False  True  True]\n",
      "[False  True  True]\n"
     ]
    }
   ],
   "source": [
    "outc7=np.greater_equal(array1, array2)\n",
    "print(outc7)\n",
    "\n",
    "outc8= array1 >= array2\n",
    "print(outc8)"
   ]
  },
  {
   "cell_type": "markdown",
   "id": "c959ccf0-00f6-42ce-9cb0-dbefaad69dbc",
   "metadata": {},
   "source": [
    "9.2.5. Equal to"
   ]
  },
  {
   "cell_type": "code",
   "execution_count": 129,
   "id": "ad61c354-3356-46cb-aece-e848400e60e8",
   "metadata": {},
   "outputs": [
    {
     "name": "stdout",
     "output_type": "stream",
     "text": [
      "[False  True False]\n",
      "[False  True False]\n"
     ]
    }
   ],
   "source": [
    "outc9=np.equal(array1, array2)\n",
    "print(outc9)\n",
    "\n",
    "outc10= array1 == array2\n",
    "print(outc10)"
   ]
  },
  {
   "cell_type": "markdown",
   "id": "7fde960c-f419-4ff7-aa1b-a21915ac0cc8",
   "metadata": {},
   "source": [
    "9.2.6. Not equal to"
   ]
  },
  {
   "cell_type": "code",
   "execution_count": 130,
   "id": "7c82a15c-5575-48ec-a498-abde8a333f4e",
   "metadata": {},
   "outputs": [
    {
     "name": "stdout",
     "output_type": "stream",
     "text": [
      "[ True False  True]\n",
      "[ True False  True]\n"
     ]
    }
   ],
   "source": [
    "outc11=np.not_equal(array1, array2)\n",
    "print(outc11)\n",
    "\n",
    "outc12= array1 != array2\n",
    "print(outc12)"
   ]
  },
  {
   "cell_type": "markdown",
   "id": "df66291a-c36b-4db2-84cc-ce1181de7c46",
   "metadata": {},
   "source": [
    "**10. String Functions**"
   ]
  },
  {
   "cell_type": "markdown",
   "id": "d519cc77-a66f-4dee-98dc-025110310e03",
   "metadata": {},
   "source": [
    "10.1. add"
   ]
  },
  {
   "cell_type": "code",
   "execution_count": 131,
   "id": "9fd9d3f8-f0ad-4805-a9c0-0d6b3c655525",
   "metadata": {},
   "outputs": [
    {
     "name": "stdout",
     "output_type": "stream",
     "text": [
      "['I am' '16 years old.']\n"
     ]
    }
   ],
   "source": [
    "str1=np.array([\"I \", 16])\n",
    "str2=np.array([\"am\", \" years old.\"])\n",
    "print(np.char.add(str1,str2))"
   ]
  },
  {
   "cell_type": "markdown",
   "id": "99b17048-d042-41ea-b8ee-0fef64e540b5",
   "metadata": {},
   "source": [
    "10.2. multiply"
   ]
  },
  {
   "cell_type": "code",
   "execution_count": 132,
   "id": "9e12ad93-ddfb-434f-aa54-ec05ac172357",
   "metadata": {},
   "outputs": [
    {
     "name": "stdout",
     "output_type": "stream",
     "text": [
      "['JJJJJ' 'RRRRR' 'CCCCC']\n"
     ]
    }
   ],
   "source": [
    "str3=np.array([\"J\", \"R\", \"C\"])\n",
    "print(np.char.multiply(str3, 5))"
   ]
  },
  {
   "cell_type": "markdown",
   "id": "5e71b4f6-6d15-45e5-9e5c-943f9464417d",
   "metadata": {},
   "source": [
    "10.3. capitalize"
   ]
  },
  {
   "cell_type": "code",
   "execution_count": 133,
   "id": "5da2e5b1-6012-40e6-ad7a-9330e2af283b",
   "metadata": {},
   "outputs": [
    {
     "name": "stdout",
     "output_type": "stream",
     "text": [
      "['I' 'Am' 'Jojo']\n"
     ]
    }
   ],
   "source": [
    "str4=np.array([\"i\", \"am\", \"jojo\"])\n",
    "print(np.char.capitalize(str4))"
   ]
  },
  {
   "cell_type": "markdown",
   "id": "0996c94d-1161-43be-bcec-2ca76f38087e",
   "metadata": {},
   "source": [
    "10.4. upper and lower"
   ]
  },
  {
   "cell_type": "code",
   "execution_count": 134,
   "id": "99a3c42f-0a3a-4cdc-8d5d-3d0dfba4929c",
   "metadata": {},
   "outputs": [
    {
     "name": "stdout",
     "output_type": "stream",
     "text": [
      "['JOMMMOJM' 'FAAZBK2' 'JSJNKSG']\n",
      "['jommmojm' 'faazbk2' 'jsjnksg']\n"
     ]
    }
   ],
   "source": [
    "str5=np.array([\"jOmmMOjm\", \"faAZBk2\", \"jsjnKsG\"])\n",
    "print(np.char.upper(str5))\n",
    "print(np.char.lower(str5))"
   ]
  },
  {
   "cell_type": "markdown",
   "id": "dd45a06e-5417-42dc-812a-96214e90cf32",
   "metadata": {},
   "source": [
    "10.5. join"
   ]
  },
  {
   "cell_type": "code",
   "execution_count": 135,
   "id": "c358b97e-c3e1-487a-89fe-a76fc3534a89",
   "metadata": {},
   "outputs": [
    {
     "name": "stdout",
     "output_type": "stream",
     "text": [
      "['L?i?o?n?e?l' 'M?e?s?s?i']\n"
     ]
    }
   ],
   "source": [
    "str6=np.array([\"Lionel\", \"Messi\"])\n",
    "print(np.char.join(\"?\", str6))   # first argument is a specified delimeter"
   ]
  },
  {
   "cell_type": "markdown",
   "id": "115c7b65-c0e1-4aad-8000-573d39d6b97d",
   "metadata": {},
   "source": [
    "10.6. equal"
   ]
  },
  {
   "cell_type": "code",
   "execution_count": 136,
   "id": "960268e4-0a5a-4cfe-b31a-09083e5a5849",
   "metadata": {},
   "outputs": [
    {
     "name": "stdout",
     "output_type": "stream",
     "text": [
      "[False  True False]\n"
     ]
    }
   ],
   "source": [
    "str7=np.array([\"Moin\", \"Servus\", \"Hallo\"])\n",
    "str8=np.array([\"Tach\", \"Servus\", \"Guten Tag\"])\n",
    "print(np.char.equal(str7, str8))"
   ]
  },
  {
   "cell_type": "markdown",
   "id": "ff3e538f-3700-4945-b58a-ce1aba8d2daa",
   "metadata": {},
   "source": [
    "**11. Broadcasting   i**"
   ]
  },
  {
   "cell_type": "code",
   "execution_count": 4,
   "id": "554ddc4d-e9c7-4f8c-a1ba-d2ef8e5b3d74",
   "metadata": {},
   "outputs": [
    {
     "name": "stdout",
     "output_type": "stream",
     "text": [
      "[[4 3 2]\n",
      " [5 4 3]\n",
      " [6 5 4]]\n"
     ]
    }
   ],
   "source": [
    "broadarr1=np.array([3, 2, 1])\n",
    "broadarr2=np.array([[1], [2], [3]])\n",
    "sum = broadarr1 + broadarr2\n",
    "print(sum)"
   ]
  },
  {
   "cell_type": "markdown",
   "id": "fbb57f53-8d14-4695-a9b7-53d86f30523f",
   "metadata": {},
   "source": [
    "With scalars"
   ]
  },
  {
   "cell_type": "code",
   "execution_count": 5,
   "id": "f25f0f01-4109-43e5-8e5d-75502d783a45",
   "metadata": {},
   "outputs": [
    {
     "name": "stdout",
     "output_type": "stream",
     "text": [
      "[ 8  9 12]\n"
     ]
    }
   ],
   "source": [
    "sca=np.array([1, 2, 5])\n",
    "number=7\n",
    "print(sca+number)"
   ]
  },
  {
   "cell_type": "code",
   "execution_count": 6,
   "id": "23dc2652-cc11-4166-a1a6-f1caae82981d",
   "metadata": {},
   "outputs": [
    {
     "ename": "ModuleNotFoundError",
     "evalue": "No module named 'scipy'",
     "output_type": "error",
     "traceback": [
      "\u001b[1;31m---------------------------------------------------------------------------\u001b[0m",
      "\u001b[1;31mModuleNotFoundError\u001b[0m                       Traceback (most recent call last)",
      "Cell \u001b[1;32mIn[6], line 1\u001b[0m\n\u001b[1;32m----> 1\u001b[0m \u001b[38;5;28;01mimport\u001b[39;00m \u001b[38;5;21;01mscipy\u001b[39;00m\n",
      "\u001b[1;31mModuleNotFoundError\u001b[0m: No module named 'scipy'"
     ]
    }
   ],
   "source": [
    "import scipy"
   ]
  },
  {
   "cell_type": "code",
   "execution_count": null,
   "id": "77e986e6-ee9a-46d8-acd1-73c1379f46b7",
   "metadata": {},
   "outputs": [],
   "source": []
  }
 ],
 "metadata": {
  "kernelspec": {
   "display_name": "Python 3 (ipykernel)",
   "language": "python",
   "name": "python3"
  },
  "language_info": {
   "codemirror_mode": {
    "name": "ipython",
    "version": 3
   },
   "file_extension": ".py",
   "mimetype": "text/x-python",
   "name": "python",
   "nbconvert_exporter": "python",
   "pygments_lexer": "ipython3",
   "version": "3.12.0"
  }
 },
 "nbformat": 4,
 "nbformat_minor": 5
}
